{
 "cells": [
  {
   "cell_type": "markdown",
   "metadata": {},
   "source": [
    "https://www.geeksforgeeks.org/snake-game-in-python-using-pygame-module/"
   ]
  },
  {
   "cell_type": "code",
   "execution_count": 1,
   "metadata": {},
   "outputs": [
    {
     "name": "stdout",
     "output_type": "stream",
     "text": [
      "Requirement already satisfied: pygame in c:\\users\\dylan\\.pyenv\\pyenv-win\\versions\\3.11.7\\lib\\site-packages (2.5.2)\n",
      "Note: you may need to restart the kernel to use updated packages.\n"
     ]
    }
   ],
   "source": [
    "%pip install pygame"
   ]
  },
  {
   "cell_type": "code",
   "execution_count": 2,
   "metadata": {},
   "outputs": [
    {
     "name": "stdout",
     "output_type": "stream",
     "text": [
      "pygame 2.5.2 (SDL 2.28.3, Python 3.11.7)\n",
      "Hello from the pygame community. https://www.pygame.org/contribute.html\n"
     ]
    }
   ],
   "source": [
    "import pygame\n",
    "import time\n",
    "import random\n",
    "\n",
    "snake_speed = 15\n",
    "\n",
    "# Window size\n",
    "window_x = 720\n",
    "window_y = 480\n",
    "\n",
    "# Defining colors\n",
    "black = pygame.Color(0, 0, 0)\n",
    "white = pygame.Color(255, 255, 255)\n",
    "red = pygame.Color(255, 0, 0)\n",
    "green = pygame.Color(0, 255, 0)\n",
    "blue = pygame.Color(0, 0, 255)"
   ]
  },
  {
   "cell_type": "code",
   "execution_count": 3,
   "metadata": {},
   "outputs": [],
   "source": [
    "# Initialize pygame\n",
    "pygame.init()\n",
    "\n",
    "# Initialize game window\n",
    "pygame.display.set_caption('GeeksforGeeks Snakes')\n",
    "game_window = pygame.display.set_mode((window_x, window_y))\n",
    "\n",
    "# FPS (frames per second) controller\n",
    "fps = pygame.time.Clock()"
   ]
  },
  {
   "cell_type": "code",
   "execution_count": 4,
   "metadata": {},
   "outputs": [],
   "source": [
    "# defining snake default position \n",
    "snake_position = [100, 50]\n",
    " \n",
    "# defining first 4 blocks of snake\n",
    "# body\n",
    "snake_body = [  [100, 50],\n",
    "                [90, 50],\n",
    "                [80, 50],\n",
    "                [70, 50]\n",
    "            ]\n",
    "# fruit position \n",
    "fruit_position = [random.randrange(1, (window_x//10)) * 10,\n",
    "                  random.randrange(1, (window_y//10)) * 10]\n",
    "fruit_spawn = True\n",
    " \n",
    "# setting default snake direction \n",
    "# towards right\n",
    "direction = 'RIGHT'\n",
    "change_to = direction"
   ]
  },
  {
   "cell_type": "code",
   "execution_count": 5,
   "metadata": {},
   "outputs": [],
   "source": [
    "# initial score\n",
    "score = 0\n",
    " \n",
    "# displaying Score function\n",
    "def show_score(choice, color, font, size):\n",
    "   \n",
    "    # creating font object score_font \n",
    "    score_font = pygame.font.SysFont(font, size)\n",
    "     \n",
    "    # create the display surface object\n",
    "    # score_surface\n",
    "    score_surface = score_font.render('Score : ' + str(score), True, color)\n",
    "     \n",
    "    # create a rectangular object for the \n",
    "    # text surface object\n",
    "    score_rect = score_surface.get_rect()\n",
    "     \n",
    "    # displaying text\n",
    "    game_window.blit(score_surface, score_rect)"
   ]
  },
  {
   "cell_type": "code",
   "execution_count": 6,
   "metadata": {},
   "outputs": [],
   "source": [
    "# game over function\n",
    "def game_over():\n",
    "   \n",
    "    # creating font object my_font\n",
    "    my_font = pygame.font.SysFont('times new roman', 50)\n",
    "     \n",
    "    # creating a text surface on which text \n",
    "    # will be drawn\n",
    "    game_over_surface = my_font.render('Your Score is : ' + str(score), True, red)\n",
    "     \n",
    "    # create a rectangular object for the text\n",
    "    # surface object\n",
    "    game_over_rect = game_over_surface.get_rect()\n",
    "     \n",
    "    # setting position of the text\n",
    "    game_over_rect.midtop = (window_x/2, window_y/4)\n",
    "     \n",
    "    # blit will draw the text on screen\n",
    "    game_window.blit(game_over_surface, game_over_rect)\n",
    "    pygame.display.flip()\n",
    "     \n",
    "    # after 2 seconds we will quit the \n",
    "    # program\n",
    "    time.sleep(2)\n",
    "     \n",
    "    # deactivating pygame library\n",
    "    pygame.quit()\n",
    "     \n",
    "    # quit the program\n",
    "    quit()"
   ]
  },
  {
   "cell_type": "code",
   "execution_count": 7,
   "metadata": {},
   "outputs": [
    {
     "ename": "error",
     "evalue": "font not initialized",
     "output_type": "error",
     "traceback": [
      "\u001b[1;31m---------------------------------------------------------------------------\u001b[0m",
      "\u001b[1;31merror\u001b[0m                                     Traceback (most recent call last)",
      "Cell \u001b[1;32mIn[7], line 74\u001b[0m\n\u001b[0;32m     71\u001b[0m         game_over()\n\u001b[0;32m     73\u001b[0m \u001b[38;5;66;03m# displaying score continuously\u001b[39;00m\n\u001b[1;32m---> 74\u001b[0m \u001b[43mshow_score\u001b[49m\u001b[43m(\u001b[49m\u001b[38;5;241;43m1\u001b[39;49m\u001b[43m,\u001b[49m\u001b[43m \u001b[49m\u001b[43mwhite\u001b[49m\u001b[43m,\u001b[49m\u001b[43m \u001b[49m\u001b[38;5;124;43m'\u001b[39;49m\u001b[38;5;124;43mtimes new roman\u001b[39;49m\u001b[38;5;124;43m'\u001b[39;49m\u001b[43m,\u001b[49m\u001b[43m \u001b[49m\u001b[38;5;241;43m20\u001b[39;49m\u001b[43m)\u001b[49m\n\u001b[0;32m     76\u001b[0m \u001b[38;5;66;03m# Refresh game screen\u001b[39;00m\n\u001b[0;32m     77\u001b[0m pygame\u001b[38;5;241m.\u001b[39mdisplay\u001b[38;5;241m.\u001b[39mupdate()\n",
      "Cell \u001b[1;32mIn[5], line 8\u001b[0m, in \u001b[0;36mshow_score\u001b[1;34m(choice, color, font, size)\u001b[0m\n\u001b[0;32m      5\u001b[0m \u001b[38;5;28;01mdef\u001b[39;00m \u001b[38;5;21mshow_score\u001b[39m(choice, color, font, size):\n\u001b[0;32m      6\u001b[0m    \n\u001b[0;32m      7\u001b[0m     \u001b[38;5;66;03m# creating font object score_font \u001b[39;00m\n\u001b[1;32m----> 8\u001b[0m     score_font \u001b[38;5;241m=\u001b[39m \u001b[43mpygame\u001b[49m\u001b[38;5;241;43m.\u001b[39;49m\u001b[43mfont\u001b[49m\u001b[38;5;241;43m.\u001b[39;49m\u001b[43mSysFont\u001b[49m\u001b[43m(\u001b[49m\u001b[43mfont\u001b[49m\u001b[43m,\u001b[49m\u001b[43m \u001b[49m\u001b[43msize\u001b[49m\u001b[43m)\u001b[49m\n\u001b[0;32m     10\u001b[0m     \u001b[38;5;66;03m# create the display surface object\u001b[39;00m\n\u001b[0;32m     11\u001b[0m     \u001b[38;5;66;03m# score_surface\u001b[39;00m\n\u001b[0;32m     12\u001b[0m     score_surface \u001b[38;5;241m=\u001b[39m score_font\u001b[38;5;241m.\u001b[39mrender(\u001b[38;5;124m'\u001b[39m\u001b[38;5;124mScore : \u001b[39m\u001b[38;5;124m'\u001b[39m \u001b[38;5;241m+\u001b[39m \u001b[38;5;28mstr\u001b[39m(score), \u001b[38;5;28;01mTrue\u001b[39;00m, color)\n",
      "File \u001b[1;32mc:\\Users\\dylan\\.pyenv\\pyenv-win\\versions\\3.11.7\\Lib\\site-packages\\pygame\\sysfont.py:462\u001b[0m, in \u001b[0;36mSysFont\u001b[1;34m(name, size, bold, italic, constructor)\u001b[0m\n\u001b[0;32m    459\u001b[0m \u001b[38;5;28;01mif\u001b[39;00m italic \u001b[38;5;129;01mand\u001b[39;00m \u001b[38;5;129;01mnot\u001b[39;00m gotitalic:\n\u001b[0;32m    460\u001b[0m     set_italic \u001b[38;5;241m=\u001b[39m \u001b[38;5;28;01mTrue\u001b[39;00m\n\u001b[1;32m--> 462\u001b[0m \u001b[38;5;28;01mreturn\u001b[39;00m \u001b[43mconstructor\u001b[49m\u001b[43m(\u001b[49m\u001b[43mfontname\u001b[49m\u001b[43m,\u001b[49m\u001b[43m \u001b[49m\u001b[43msize\u001b[49m\u001b[43m,\u001b[49m\u001b[43m \u001b[49m\u001b[43mset_bold\u001b[49m\u001b[43m,\u001b[49m\u001b[43m \u001b[49m\u001b[43mset_italic\u001b[49m\u001b[43m)\u001b[49m\n",
      "File \u001b[1;32mc:\\Users\\dylan\\.pyenv\\pyenv-win\\versions\\3.11.7\\Lib\\site-packages\\pygame\\sysfont.py:380\u001b[0m, in \u001b[0;36mfont_constructor\u001b[1;34m(fontpath, size, bold, italic)\u001b[0m\n\u001b[0;32m    368\u001b[0m \u001b[38;5;28;01mdef\u001b[39;00m \u001b[38;5;21mfont_constructor\u001b[39m(fontpath, size, bold, italic):\n\u001b[0;32m    369\u001b[0m \u001b[38;5;250m    \u001b[39m\u001b[38;5;124;03m\"\"\"\u001b[39;00m\n\u001b[0;32m    370\u001b[0m \u001b[38;5;124;03m    pygame.font specific declarations\u001b[39;00m\n\u001b[0;32m    371\u001b[0m \n\u001b[1;32m   (...)\u001b[0m\n\u001b[0;32m    377\u001b[0m \u001b[38;5;124;03m    :return: A font.Font object.\u001b[39;00m\n\u001b[0;32m    378\u001b[0m \u001b[38;5;124;03m    \"\"\"\u001b[39;00m\n\u001b[1;32m--> 380\u001b[0m     font \u001b[38;5;241m=\u001b[39m \u001b[43mFont\u001b[49m\u001b[43m(\u001b[49m\u001b[43mfontpath\u001b[49m\u001b[43m,\u001b[49m\u001b[43m \u001b[49m\u001b[43msize\u001b[49m\u001b[43m)\u001b[49m\n\u001b[0;32m    381\u001b[0m     \u001b[38;5;28;01mif\u001b[39;00m bold:\n\u001b[0;32m    382\u001b[0m         font\u001b[38;5;241m.\u001b[39mset_bold(\u001b[38;5;28;01mTrue\u001b[39;00m)\n",
      "\u001b[1;31merror\u001b[0m: font not initialized"
     ]
    },
    {
     "ename": "",
     "evalue": "",
     "output_type": "error",
     "traceback": [
      "\u001b[1;31mThe Kernel crashed while executing code in the current cell or a previous cell. \n",
      "\u001b[1;31mPlease review the code in the cell(s) to identify a possible cause of the failure. \n",
      "\u001b[1;31mClick <a href='https://aka.ms/vscodeJupyterKernelCrash'>here</a> for more info. \n",
      "\u001b[1;31mView Jupyter <a href='command:jupyter.viewOutput'>log</a> for further details."
     ]
    }
   ],
   "source": [
    "# Main Function\n",
    "while True:\n",
    "   \n",
    "    # handling key events\n",
    "    for event in pygame.event.get():\n",
    "        if event.type == pygame.KEYDOWN:\n",
    "            if event.key == pygame.K_UP:\n",
    "                change_to = 'UP'\n",
    "            if event.key == pygame.K_DOWN:\n",
    "                change_to = 'DOWN'\n",
    "            if event.key == pygame.K_LEFT:\n",
    "                change_to = 'LEFT'\n",
    "            if event.key == pygame.K_RIGHT:\n",
    "                change_to = 'RIGHT'\n",
    " \n",
    "    # If two keys pressed simultaneously \n",
    "    # we don't want snake to move into two directions\n",
    "    # simultaneously\n",
    "    if change_to == 'UP' and direction != 'DOWN':\n",
    "        direction = 'UP'\n",
    "    if change_to == 'DOWN' and direction != 'UP':\n",
    "        direction = 'DOWN'\n",
    "    if change_to == 'LEFT' and direction != 'RIGHT':\n",
    "        direction = 'LEFT'\n",
    "    if change_to == 'RIGHT' and direction != 'LEFT':\n",
    "        direction = 'RIGHT'\n",
    " \n",
    "    # Moving the snake\n",
    "    if direction == 'UP':\n",
    "        snake_position[1] -= 10\n",
    "    if direction == 'DOWN':\n",
    "        snake_position[1] += 10\n",
    "    if direction == 'LEFT':\n",
    "        snake_position[0] -= 10\n",
    "    if direction == 'RIGHT':\n",
    "        snake_position[0] += 10\n",
    " \n",
    "    # Snake body growing mechanism \n",
    "    # if fruits and snakes collide then scores will be \n",
    "    # incremented by 10\n",
    "    snake_body.insert(0, list(snake_position))\n",
    "    if snake_position[0] == fruit_position[0] and snake_position[1] == fruit_position[1]:\n",
    "        score += 10\n",
    "        fruit_spawn = False\n",
    "    else:\n",
    "        snake_body.pop()\n",
    "         \n",
    "    if not fruit_spawn:\n",
    "        fruit_position = [random.randrange(1, (window_x//10)) * 10, \n",
    "                          random.randrange(1, (window_y//10)) * 10]\n",
    "         \n",
    "    fruit_spawn = True\n",
    "    game_window.fill(black)\n",
    "     \n",
    "    for pos in snake_body:\n",
    "        pygame.draw.rect(game_window, green, pygame.Rect(\n",
    "          pos[0], pos[1], 10, 10))\n",
    "         \n",
    "    pygame.draw.rect(game_window, white, pygame.Rect(\n",
    "      fruit_position[0], fruit_position[1], 10, 10))\n",
    " \n",
    "    # Game Over conditions\n",
    "    if snake_position[0] < 0 or snake_position[0] > window_x-10:\n",
    "        game_over()\n",
    "    if snake_position[1] < 0 or snake_position[1] > window_y-10:\n",
    "        game_over()\n",
    "     \n",
    "    # Touching the snake body\n",
    "    for block in snake_body[1:]:\n",
    "        if snake_position[0] == block[0] and snake_position[1] == block[1]:\n",
    "            game_over()\n",
    "     \n",
    "    # displaying score continuously\n",
    "    show_score(1, white, 'times new roman', 20)\n",
    "     \n",
    "    # Refresh game screen\n",
    "    pygame.display.update()\n",
    " \n",
    "    # Frame Per Second /Refresh Rate\n",
    "    fps.tick(snake_speed)"
   ]
  }
 ],
 "metadata": {
  "kernelspec": {
   "display_name": "Python 3",
   "language": "python",
   "name": "python3"
  },
  "language_info": {
   "codemirror_mode": {
    "name": "ipython",
    "version": 3
   },
   "file_extension": ".py",
   "mimetype": "text/x-python",
   "name": "python",
   "nbconvert_exporter": "python",
   "pygments_lexer": "ipython3",
   "version": "3.11.7"
  }
 },
 "nbformat": 4,
 "nbformat_minor": 2
}
