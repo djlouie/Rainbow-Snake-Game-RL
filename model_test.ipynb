{
 "cells": [
  {
   "cell_type": "code",
   "execution_count": 1,
   "metadata": {},
   "outputs": [
    {
     "name": "stdout",
     "output_type": "stream",
     "text": [
      "pygame 2.5.2 (SDL 2.28.3, Python 3.11.7)\n",
      "Hello from the pygame community. https://www.pygame.org/contribute.html\n"
     ]
    }
   ],
   "source": [
    "from snake import Game\n",
    "import random\n",
    "import pygame\n",
    "import math\n",
    "\n",
    "# torch imports\n",
    "import torch\n",
    "import torch.nn as nn\n",
    "import torch.optim as optim\n",
    "import torch.nn.functional as F"
   ]
  },
  {
   "cell_type": "code",
   "execution_count": 2,
   "metadata": {},
   "outputs": [],
   "source": [
    "class DQN(nn.Module):\n",
    "    def __init__(self, n_observations, n_actions):\n",
    "        super(DQN, self).__init__()\n",
    "        self.fc1 = nn.Linear(n_observations, 128)\n",
    "        self.fc2 = nn.Linear(128, 128)\n",
    "        self.fc3 = nn.Linear(128, n_actions)\n",
    "\n",
    "    def forward(self, x):\n",
    "        x = F.relu(self.fc1(x))\n",
    "        x = F.relu(self.fc2(x))\n",
    "        x = self.fc3(x)\n",
    "        return x"
   ]
  },
  {
   "cell_type": "code",
   "execution_count": 4,
   "metadata": {},
   "outputs": [],
   "source": [
    "policy = DQN(73*48, 4)"
   ]
  },
  {
   "cell_type": "code",
   "execution_count": 8,
   "metadata": {},
   "outputs": [],
   "source": [
    "policy = torch.load('policy.pth')"
   ]
  },
  {
   "cell_type": "code",
   "execution_count": 9,
   "metadata": {},
   "outputs": [
    {
     "data": {
      "text/plain": [
       "DQN(\n",
       "  (fc1): Linear(in_features=3456, out_features=128, bias=True)\n",
       "  (fc2): Linear(in_features=128, out_features=128, bias=True)\n",
       "  (fc3): Linear(in_features=128, out_features=4, bias=True)\n",
       ")"
      ]
     },
     "execution_count": 9,
     "metadata": {},
     "output_type": "execute_result"
    }
   ],
   "source": [
    "policy.eval()"
   ]
  },
  {
   "cell_type": "code",
   "execution_count": 10,
   "metadata": {},
   "outputs": [],
   "source": [
    "def observation(game):\n",
    "    obs_matrix = torch.zeros(y_axis_size, x_axis_size)\n",
    "\n",
    "    black = pygame.Color(0, 0, 0)\n",
    "    white = pygame.Color(255, 255, 255)\n",
    "    red = pygame.Color(255, 0, 0)\n",
    "    orange = pygame.Color(255, 127, 0)\n",
    "    yellow =pygame.Color(255, 255, 0)\n",
    "    green = pygame.Color(0, 255, 0)\n",
    "    blue = pygame.Color(0, 0, 255)\n",
    "    indigo = pygame.Color(75, 0, 130)\n",
    "    violet = pygame.Color(148, 0, 211)\n",
    "    rainbow = [red, orange, yellow, green, blue, indigo, violet]\n",
    "\n",
    "    for color, seg in zip(game.snake_colors, game.snake_body):\n",
    "        x, y = seg\n",
    "        x = int(x / 10)\n",
    "        y = int(y / 10)\n",
    "\n",
    "        if color == rainbow[0]:\n",
    "            obs_matrix[y][x] = 50\n",
    "        elif color == rainbow[1]:\n",
    "            obs_matrix[y][x] = 51\n",
    "        elif color == rainbow[2]:\n",
    "            obs_matrix[y][x] = 52\n",
    "        elif color == rainbow[3]:\n",
    "            obs_matrix[y][x] = 53\n",
    "        elif color == rainbow[4]:\n",
    "            obs_matrix[y][x] = 54\n",
    "        elif color == rainbow[5]:\n",
    "            obs_matrix[y][x] = 55\n",
    "        elif color == rainbow[6]:\n",
    "            obs_matrix[y][x] = 56\n",
    "\n",
    "    for ind, fruit in enumerate(game.fruit_position):\n",
    "        x, y = fruit\n",
    "        x = int(x / 10)\n",
    "        y = int(y / 10)\n",
    "\n",
    "        if ind == 0:\n",
    "            obs_matrix[y][x] = 0\n",
    "        elif ind == 1:\n",
    "            obs_matrix[y][x] = 1\n",
    "        elif ind == 2:\n",
    "            obs_matrix[y][x] = 2\n",
    "        elif ind == 3:\n",
    "            obs_matrix[y][x] = 3\n",
    "        elif ind == 4:\n",
    "            obs_matrix[y][x] = 4\n",
    "        elif ind == 5:\n",
    "            obs_matrix[y][x] = 5\n",
    "        elif ind == 6:\n",
    "            obs_matrix[y][x] = 6\n",
    "    \n",
    "    return obs_matrix"
   ]
  },
  {
   "cell_type": "code",
   "execution_count": 15,
   "metadata": {},
   "outputs": [],
   "source": [
    "x_window_size = 720\n",
    "y_window_size = 480\n",
    "x_axis_size = x_window_size // 10\n",
    "y_axis_size = y_window_size //10\n",
    "episodes_done = 0\n",
    "\n",
    "game = Game(x_window_size, y_window_size, episodes_done)\n",
    "obs = observation(game)\n",
    "\n",
    "while True:\n",
    "\n",
    "    # select action\n",
    "    action = torch.argmax(policy(torch.flatten(obs))).item()\n",
    "\n",
    "    # game step\n",
    "    terminated = game.step(action)\n",
    "\n",
    "    if terminated:\n",
    "        break"
   ]
  },
  {
   "cell_type": "code",
   "execution_count": 16,
   "metadata": {},
   "outputs": [
    {
     "data": {
      "text/plain": [
       "[0, 0, 0, 0, 0, 0, 0, 0, 0, 0, 0, 0, 0, 0]"
      ]
     },
     "execution_count": 16,
     "metadata": {},
     "output_type": "execute_result"
    }
   ],
   "source": [
    "[0] * 14"
   ]
  },
  {
   "cell_type": "code",
   "execution_count": null,
   "metadata": {},
   "outputs": [],
   "source": []
  }
 ],
 "metadata": {
  "kernelspec": {
   "display_name": "Python 3",
   "language": "python",
   "name": "python3"
  },
  "language_info": {
   "codemirror_mode": {
    "name": "ipython",
    "version": 3
   },
   "file_extension": ".py",
   "mimetype": "text/x-python",
   "name": "python",
   "nbconvert_exporter": "python",
   "pygments_lexer": "ipython3",
   "version": "3.11.7"
  }
 },
 "nbformat": 4,
 "nbformat_minor": 2
}
