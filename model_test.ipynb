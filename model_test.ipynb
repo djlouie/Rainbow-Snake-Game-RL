{
 "cells": [
  {
   "cell_type": "code",
   "execution_count": 1,
   "metadata": {},
   "outputs": [
    {
     "name": "stdout",
     "output_type": "stream",
     "text": [
      "pygame 2.5.2 (SDL 2.28.3, Python 3.11.7)\n",
      "Hello from the pygame community. https://www.pygame.org/contribute.html\n"
     ]
    }
   ],
   "source": [
    "from snake import Game\n",
    "import random\n",
    "import pygame\n",
    "import math\n",
    "import os\n",
    "\n",
    "# torch imports\n",
    "import torch\n",
    "import torch.nn as nn\n",
    "import torch.optim as optim\n",
    "import torch.nn.functional as F"
   ]
  },
  {
   "cell_type": "code",
   "execution_count": 2,
   "metadata": {},
   "outputs": [],
   "source": [
    "class DQN(nn.Module):\n",
    "    def __init__(self, n_observations, n_actions):\n",
    "        super(DQN, self).__init__()\n",
    "        self.fc1 = nn.Linear(n_observations, 128)\n",
    "        self.fc2 = nn.Linear(128, 128)\n",
    "        self.fc3 = nn.Linear(128, n_actions)\n",
    "\n",
    "    def forward(self, x):\n",
    "        x = F.relu(self.fc1(x))\n",
    "        x = F.relu(self.fc2(x))\n",
    "        x = self.fc3(x)\n",
    "        return x"
   ]
  },
  {
   "cell_type": "code",
   "execution_count": 12,
   "metadata": {},
   "outputs": [],
   "source": [
    "policy = DQN(28, 4)"
   ]
  },
  {
   "cell_type": "code",
   "execution_count": 13,
   "metadata": {},
   "outputs": [],
   "source": [
    "policy = torch.load(os.path.join('policies', 'policy1.pth'))"
   ]
  },
  {
   "cell_type": "code",
   "execution_count": 14,
   "metadata": {},
   "outputs": [
    {
     "data": {
      "text/plain": [
       "DQN(\n",
       "  (fc1): Linear(in_features=28, out_features=128, bias=True)\n",
       "  (fc2): Linear(in_features=128, out_features=128, bias=True)\n",
       "  (fc3): Linear(in_features=128, out_features=4, bias=True)\n",
       ")"
      ]
     },
     "execution_count": 14,
     "metadata": {},
     "output_type": "execute_result"
    }
   ],
   "source": [
    "policy.eval()"
   ]
  },
  {
   "cell_type": "code",
   "execution_count": 15,
   "metadata": {},
   "outputs": [],
   "source": [
    "def dist(x1, y1, x2, y2):\n",
    "    return math.sqrt((x2 - x1)**2 + (y2 - y1)**2)"
   ]
  },
  {
   "cell_type": "code",
   "execution_count": 16,
   "metadata": {},
   "outputs": [],
   "source": [
    "def observation(game):\n",
    "    red = pygame.Color(255, 0, 0)\n",
    "    orange = pygame.Color(255, 127, 0)\n",
    "    yellow =pygame.Color(255, 255, 0)\n",
    "    green = pygame.Color(0, 255, 0)\n",
    "    blue = pygame.Color(0, 0, 255)\n",
    "    indigo = pygame.Color(75, 0, 130)\n",
    "    violet = pygame.Color(148, 0, 211)\n",
    "    rainbow = [red, orange, yellow, green, blue, indigo, violet]\n",
    "\n",
    "    # [x_snake, y_snake, up, down, left, right, \n",
    "    # distance to top wall, d to bot wall, d to left wall, d to r wall\n",
    "    # closest seg up, c seg down, c seg left, c seg right\n",
    "    # red fruit x, red fruit y, o fruit x, o fruit y, y fruit x, y fruit y\n",
    "    # g fruit x, g fruit y, ...]\n",
    "\n",
    "    obs_vector = torch.zeros(28)\n",
    "\n",
    "    snake_body = game.snake_body\n",
    "\n",
    "    # x and y snake head pos\n",
    "    obs_vector[0] = game.snake_position[0]\n",
    "    obs_vector[1] = game.snake_position[1]\n",
    "\n",
    "    # up down left right\n",
    "    if game.direction == 'UP':\n",
    "        obs_vector[2] = 1\n",
    "    if game.direction == 'DOWN':\n",
    "        obs_vector[3] = 1\n",
    "    if game.direction == 'LEFT':\n",
    "        obs_vector[4] = 1\n",
    "    if game.direction == 'RIGHT':\n",
    "        obs_vector[5] = 1\n",
    "\n",
    "    obs_vector[6] = game.snake_position[0] - 0\n",
    "    obs_vector[7] = game.window_x - game.snake_position[0]\n",
    "    obs_vector[8] = game.snake_position[1] - 0\n",
    "    obs_vector[9] = game.window_y - game.snake_position[1]\n",
    "\n",
    "    # closest seg up, c seg down, c seg left, c seg right\n",
    "    gx, gy = game.snake_position\n",
    "\n",
    "    up_candidates = [p for p in snake_body if p[0] == gx and p[1] > gy]\n",
    "    down_candidates = [p for p in snake_body if p[0] == gx and p[1] < gy]\n",
    "    left_candidates = [p for p in snake_body if p[1] == gy and p[0] < gx]\n",
    "    right_candidates = [p for p in snake_body if p[1] == gy and p[0] > gx]\n",
    "\n",
    "    # print(up_candidates, down_candidates, left_candidates, right_candidates)\n",
    "\n",
    "    if len(up_candidates) > 0:\n",
    "        closest_up = up_candidates[0]\n",
    "        for pos in up_candidates:\n",
    "            if dist(gx, gy, closest_up[0], closest_up[1]) < dist(gx, gy, pos[0], pos[1]):\n",
    "                closest_up = pos\n",
    "        obs_vector[10] = dist(gx, gy, closest_up[0], closest_up[1])\n",
    "\n",
    "    if len(down_candidates) > 0:\n",
    "        closest_down = down_candidates[0]\n",
    "        for pos in down_candidates:\n",
    "            if dist(gx, gy, closest_down[0], closest_down[1]) < dist(gx, gy, pos[0], pos[1]):\n",
    "                closest_down = pos\n",
    "        obs_vector[11] = dist(gx, gy, closest_down[0], closest_down[1])\n",
    "\n",
    "    if len(left_candidates) > 0:\n",
    "        closest_left = left_candidates[0]\n",
    "        for pos in left_candidates:\n",
    "            if dist(gx, gy, closest_left[0], closest_left[1]) < dist(gx, gy, pos[0], pos[1]):\n",
    "                closest_left = pos\n",
    "        obs_vector[12] = dist(gx, gy, closest_left[0], closest_left[1])\n",
    "\n",
    "    if len(right_candidates) > 0:\n",
    "        closest_right = right_candidates[0]\n",
    "        for pos in right_candidates:\n",
    "            if dist(gx, gy, closest_right[0], closest_right[1]) < dist(gx, gy, pos[0], pos[1]):\n",
    "                closest_right = pos\n",
    "        obs_vector[13] = dist(gx, gy, closest_right[0], closest_right[1])\n",
    "\n",
    "    for pos, ind in zip(game.fruit_position, range(14, 28, 2)):\n",
    "        obs_vector[ind] = pos[0]\n",
    "        obs_vector[ind + 1] = pos[1]\n",
    "    \n",
    "    return obs_vector"
   ]
  },
  {
   "cell_type": "code",
   "execution_count": 25,
   "metadata": {},
   "outputs": [
    {
     "name": "stdout",
     "output_type": "stream",
     "text": [
      "tensor([100., 240.,   0.,   0.,   0.,   1., 100., 620., 240., 240.,   0.,   0.,\n",
      "         30.,   0., 490., 160., 700., 100., 350., 370.,  20., 350., 640.,  60.,\n",
      "        390., 450.,  20., 170.])\n"
     ]
    }
   ],
   "source": [
    "x_window_size = 720\n",
    "y_window_size = 480\n",
    "x_axis_size = x_window_size // 10\n",
    "y_axis_size = y_window_size //10\n",
    "episodes_done = 0\n",
    "\n",
    "game = Game(x_window_size, y_window_size, episodes_done)\n",
    "obs = observation(game)\n",
    "\n",
    "print(obs)\n",
    "\n",
    "while True:\n",
    "\n",
    "    # select action\n",
    "    action = torch.argmax(policy(obs)).item()\n",
    "\n",
    "    # game step\n",
    "    terminated = game.step(action)\n",
    "\n",
    "    if terminated:\n",
    "        break"
   ]
  },
  {
   "cell_type": "code",
   "execution_count": 22,
   "metadata": {},
   "outputs": [
    {
     "data": {
      "text/plain": [
       "[0, 0, 0, 0, 0, 0, 0, 0, 0, 0, 0, 0, 0, 0]"
      ]
     },
     "execution_count": 22,
     "metadata": {},
     "output_type": "execute_result"
    }
   ],
   "source": [
    "[0] * 14"
   ]
  },
  {
   "cell_type": "code",
   "execution_count": null,
   "metadata": {},
   "outputs": [],
   "source": []
  }
 ],
 "metadata": {
  "kernelspec": {
   "display_name": "Python 3",
   "language": "python",
   "name": "python3"
  },
  "language_info": {
   "codemirror_mode": {
    "name": "ipython",
    "version": 3
   },
   "file_extension": ".py",
   "mimetype": "text/x-python",
   "name": "python",
   "nbconvert_exporter": "python",
   "pygments_lexer": "ipython3",
   "version": "3.11.7"
  }
 },
 "nbformat": 4,
 "nbformat_minor": 2
}
